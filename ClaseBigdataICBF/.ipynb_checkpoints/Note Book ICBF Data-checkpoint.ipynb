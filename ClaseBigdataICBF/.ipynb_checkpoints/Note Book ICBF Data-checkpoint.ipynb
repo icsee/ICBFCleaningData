{
 "cells": [
  {
   "cell_type": "markdown",
   "metadata": {},
   "source": [
    "# NOTE BOOK DATASET ICBF"
   ]
  },
  {
   "cell_type": "markdown",
   "metadata": {},
   "source": [
    "<img src=\"C:/Users/USER/Desktop/icbf.jpg\"/>"
   ]
  },
  {
   "cell_type": "markdown",
   "metadata": {},
   "source": [
    "## Problema"
   ]
  },
  {
   "cell_type": "markdown",
   "metadata": {},
   "source": [
    "Cómo mejorar la calidad de vida de los beneficiarios?  -- Que es calidad de vida?\n",
    "Cómo disminuir la muerte por desnutrición en el país?  --Que es disminuir?\n",
    "Cómo invertir mejor los recursos del programa primera infancia? --implicaría restructuraciones del programa o manteniendo el programa original.\n",
    "Objetivo del análisis: Definir un objetivo smart a partir de las preguntas suministradas por los interesados y determinar si los datos suministrados son suficientes para dar respuesta o cumplir con el objetivo smart planteado y las fuentes de los demás que sean necesarios para lograr tal fin.\n"
   ]
  },
  {
   "cell_type": "markdown",
   "metadata": {},
   "source": [
    "## Objetivo del análisis"
   ]
  },
  {
   "cell_type": "markdown",
   "metadata": {},
   "source": [
    "Definir un objetivo smart a partir de las preguntas suministradas por los interesados y determinar si los datos suministrados son suficientes para dar respuesta o cumplir con el objetivo smart planteado y las fuentes de los demás que sean necesarios para lograr tal fin."
   ]
  },
  {
   "cell_type": "markdown",
   "metadata": {},
   "source": [
    "## Preguntas Descriptivas  "
   ]
  },
  {
   "cell_type": "markdown",
   "metadata": {},
   "source": [
    "1. ¿Cuál es la  clasificación de los servicios de acuerdo a las 8 atenciones?\n",
    "2. ¿Cómo es la distribución del presupuesto por departamento?\n",
    "3.\t¿Cómo es la distribución del presupuesto de acuerdo a las 8 atenciones?\n",
    "4.\tCómo ha sido la ejecución de los presupuestos en los últimos 8 años, se ha ejecutado al 100%?\n",
    "5.\t¿Cuál es el periodo de ejecución de los valores programados?\n",
    "6.\t¿Cuál o cuáles fueron los factores para la elección de la distribución del presupuesto?\n",
    "7.\t¿Cuáles son las características de los servicios?\n",
    "8.\t¿Cuál ha sido el presupuesto destinado al ICBF por el gobierno precedente? \n",
    "9.\t¿Qué características tenían los programas del gobierno precedente?\n",
    "10.\t¿Cuáles fueron los resultados de esa ejecución del presupuesto del gobierno precedente?\n",
    "11.\t¿Cuál es el significado del código del servicio?\n",
    "12.\t¿Cuáles son los factores para determinar el número de cupos de cada programa o servicio?\n",
    "13.\t¿Cuál es el número de contratistas por región?\n",
    "14.\t¿Cuál es el número de municipios atendidos por contratista?\n",
    "15.\t¿Cuál es el número de niños atendidos por servicio de 8 atenciones?\n",
    "16.\t¿Cuáles son los parámetros de evaluación de los contratistas?\n",
    "17.\t¿Cuál es el presupuesto asignado a cada contratista?\n",
    "18.\t¿Cuál es el número de niños atendidos por contratista?\n",
    "19.\t¿Cuál es el número de niños atendidos por el programa y por municipio?\n",
    "20.\t¿Cuál es el número de niñas atendidos por el programa y por municipio?\n",
    "21.\t¿Cuál es el número de niños foráneos atendidos por el programa y por municipio?\n",
    "22.\t¿Cuál es el número de niñas foráneas atendidos por el programa y por municipio?\n",
    "23.\t¿Cuál es la nacionalidad de los niños foráneos atendidos por el programa?\n",
    "24.\t¿Cuál es el número de niños atendidos por etnia?\n",
    "25.\t¿Cuál es el número de niños atendidos con algún tipo de discapacidad por municipio? \n",
    "26.\t¿Cuál es el número de niños atendidos sin identificación?\n",
    "27.\t¿Cuál es el peso y talla promedio por grupo de edades?\n",
    "28.\t¿Cuál es el peso y talla adecuado por grupo de edades?\n",
    "29.\t¿Cuál es el número de niños con problemas de nutrición?\n",
    "30.\t¿Cuáles son los municipios de los niños con problemas de nutrición?\n",
    "31.\t¿Cuáles son los contratistas que atienden a los niños con problemas de nutrición?\n",
    "32. ¿Cuál es la diferencia entre número de cupos y cupos UDS?\n"
   ]
  },
  {
   "cell_type": "markdown",
   "metadata": {},
   "source": [
    "## Preguntas Diagnosticas"
   ]
  },
  {
   "cell_type": "markdown",
   "metadata": {},
   "source": [
    "1.\t¿Por qué (aproximado) una cuarta parte del presupuesto está asignado a Bogotá D.C Sede Nacional. cuando no se indican cupos programados o unidades programadas?\n",
    "2.\t¿Por qué no existe una correlación directa entre el valor programado y los cupos programados?\n",
    "3.\t¿Por qué no existe una correlación directa entre las unidades programadas y los cupos programados?\n",
    "4.\t¿Por qué existe un valor programado para un servicio que no tiene unidades ni cupos programados?\n",
    "5.\t¿Por qué la mayor cantidad de unidades programadas esta asignada a Antioquia cuando la mayor cantidad de cupos está asignada a Bogotá?\n",
    "6.\t ¿Por qué Cali es la ciudad con más servicios asignados?\n",
    "7.\tPor qué el año de vigencia es 2016 para el archivo base_prim_inf y el presupuesto esta referenciado a febrero de 2018?\n",
    "8.\tPor qué en el presupuesto para Arauca , municipio Saravena aparecen 5 servicios y en el cuadro base_prim_inf aparecen 8 servicios?\n",
    "9.\tPor qué para Arauca en el servicio HCB TRADICIONAL- COMUNITARIO (T) tienen 360 cupos programados y en el cuadro base_prim_inf aparecen para ese servicio 716 beneficiarios?\n",
    "10.\tPor qué se existen niños sin vacunación pero si cuentan con afiliación a salud?\n",
    "11.\tCuál es la fórmula para el cálculo de los score?\n",
    "12.\tCuál es el score ideal?\n",
    "13.\tCuál es la fórmula para tomar los diferentes rangos de talla peso edad?\n",
    "14.\tPor qué existen adultos en la hoja de nutrición catalogados como niño o niña entre 6 meses y 5 años y 11 meses?\n",
    "15.\tPor qué existen 998 registros con fecha de medición 1900-01-01?\n",
    "16.\tPor qué no existe una relación en cuanto a las regiones de los datos en los diferentes archivos?\n",
    "17.\tPorque la totalización por región de los valores programados  difiere de la del aporte del ICBF en el cuadro de contratos?\n"
   ]
  },
  {
   "cell_type": "markdown",
   "metadata": {},
   "source": [
    "## Preguntas predictivas"
   ]
  },
  {
   "cell_type": "markdown",
   "metadata": {},
   "source": [
    "1.\t¿Por qué (aproximado) una cuarta parte del presupuesto está asignado a Bogotá D.C Sede Nacional. cuando no se indican cupos programados o unidades programadas?\n",
    "2.\t¿Por qué no existe una correlación directa entre el valor programado y los cupos programados?\n",
    "3.\t¿Por qué no existe una correlación directa entre las unidades programadas y los cupos programados?\n",
    "4.\t¿Por qué existe un valor programado para un servicio que no tiene unidades ni cupos programados?\n",
    "5.\t¿Por qué la mayor cantidad de unidades programadas esta asignada a Antioquia cuando la mayor cantidad de cupos está asignada a Bogotá?\n",
    "6.\t ¿Por qué Cali es la ciudad con más servicios asignados?\n",
    "7.\tPor qué el año de vigencia es 2016 para el archivo base_prim_inf y el presupuesto esta referenciado a febrero de 2018?\n",
    "8.\tPor qué en el presupuesto para Arauca , municipio Saravena aparecen 5 servicios y en el cuadro base_prim_inf aparecen 8 servicios?\n",
    "9.\tPor qué para Arauca en el servicio HCB TRADICIONAL- COMUNITARIO (T) tienen 360 cupos programados y en el cuadro base_prim_inf aparecen para ese servicio 716 beneficiarios?\n",
    "10.\tPor qué se existen niños sin vacunación pero si cuentan con afiliación a salud?\n",
    "11.\tCuál es la fórmula para el cálculo de los score?\n",
    "12.\tCuál es el score ideal?\n",
    "13.\tCuál es la fórmula para tomar los diferentes rangos de talla peso edad?\n",
    "14.\tPor qué existen adultos en la hoja de nutrición catalogados como niño o niña entre 6 meses y 5 años y 11 meses?\n",
    "15.\tPor qué existen 998 registros con fecha de medición 1900-01-01?\n",
    "16.\tPor qué no existe una relación en cuanto a las regiones de los datos en los diferentes archivos?\n",
    "17.\tPorque la totalización por región de los valores programados  difiere de la del aporte del ICBF en el cuadro de contratos?\n"
   ]
  },
  {
   "cell_type": "markdown",
   "metadata": {},
   "source": [
    "## Limpieza de archivos\n",
    "Se procede a realizar un limpieza preliminar de los archivos suministrados por el interesado antes de proceder a gargarlos en el programa R.\n"
   ]
  },
  {
   "cell_type": "markdown",
   "metadata": {},
   "source": [
    " Para el archivo 8_atenciones_Bogota.xls se eliminan las siguintes columnas:\n",
    " - RegionalContrato:Dato innecesario debido a que se sabe que los datos pertenecen a la ciudad de Bogotá.\n",
    " - IdContrato: Se considera información redundante ya que se tienen los números de los contratos.\n",
    "Para el archivo beneficiarios_Dic_217_bta_antioquia.xls se eliminan las siguientes columnas:\n",
    "- Región Contrato: Dato repetido.\n",
    "- FechaInicioOtrosi: Dato no relevante para el análisis.\n",
    "- FechaFinOtrosi: Dato no relevante para el análisis.\n",
    "- CodigoRegionalContrato: Dato duplicado.\n",
    "- NombreTipoOtrosi: Dato no relevante para el análisis.\n",
    "- CodDocumento: Todos los registros tienen NIT en ese campo.\n",
    "- CodigoRegionaUDS: Dato duplicado.\n",
    "- RegionalIUD: Dato duplicado.\n",
    "Las siguietnes columnas se elimina de esta tabla y se utiliza en un nuevo archivo en el cual solo se tiene los datos de los contratistas\n",
    "- AñoVigencia\n",
    "- FechaInicio\n",
    "- FechaFin\n",
    "- NumeroCupos\n",
    "- ValorTotal\n",
    "- ValorOtrosi\n",
    "- CupoOtrosi\n",
    "- NombreEntidadContratista\n",
    "- IdentificacionEntidadContratista\n",
    "- TipodeEntidadContratista\n",
    "- NombreUnidadServicio\n",
    "- Zona de Ubicación\n",
    "- DirecciónUDS\n",
    "- CuposUDS\n",
    "- LatitudUDS\n",
    "- LongitudUDS\n",
    "- FechaCapturaUDS\n",
    "- HoraCapturaUDS\n",
    "- FechaVinculacionUDScontrato\n",
    "Se procede a cargar el data set de atenciones Bogotá Antioquia."
   ]
  },
  {
   "cell_type": "code",
   "execution_count": 5,
   "metadata": {},
   "outputs": [],
   "source": [
    "datasetat <- read.csv(\"C:\\\\Users\\\\USER\\\\Documents\\\\Maestria Juank\\\\Big Data\\\\atenciones_bog_antioquia.csv\", header=TRUE, sep=\",\")\n"
   ]
  },
  {
   "cell_type": "markdown",
   "metadata": {},
   "source": [
    "Se modifican las columnas de las 8 atenciones reemplazando los valores de 1 por la descripción de la atención y posteriormente estas columnas se pasan a filas para facilitar su análisis."
   ]
  },
  {
   "cell_type": "code",
   "execution_count": null,
   "metadata": {},
   "outputs": [],
   "source": [
    "datasetat$Vacunacion[datasetat$Vacunacion==1]<-\"vacunacion\";\n",
    "datasetat$SeguimientoNutricional[datasetat$SeguimientoNutricional==1]<-\"Seg.Nutricional\";\n",
    "datasetat$FormacionFamilias[datasetat$FormacionFamilias==1]<-\"Form.Familias\";\n",
    "datasetat$AfiliacionSalud[datasetat$AfiliacionSalud==1]<-\"Afil.Salud\";\n",
    "datasetat$AccesoLibros[datasetat$AccesoLibros==1]<-\"Acc.Libros\";\n",
    "datasetat$CrecimientoDesarrollo[datasetat$CrecimientoDesarrollo==1]<-\"CrecimientoyDesarrollo\";\n",
    "datasetat$TH_Cualificado[datasetat$TH_Cualificado==1]<-\"Th_cualificado\";\n",
    "datasetat$RC[datasetat$RC==1]<-\"RC\";\n",
    "datasetat$Vacunacion[datasetat$Vacunacion==0]<-\"NULL\";\n",
    "datasetat$SeguimientoNutricional[datasetat$SeguimientoNutricional==0]<-\"NULL\";\n",
    "datasetat$FormacionFamilias[datasetat$FormacionFamilias==0]<-\"NULL\";\n",
    "datasetat$AfiliacionSalud[datasetat$AfiliacionSalud==0]<-\"NULL\";\n",
    "datasetat$AccesoLibros[datasetat$AccesoLibros==0]<-\"NULL\";\n",
    "datasetat$CrecimientoDesarrollo[datasetat$CrecimientoDesarrollo==0]<-\"NULL\";\n",
    "datasetat$TH_Cualificado[datasetat$TH_Cualificado==0]<-\"NULL\";\n",
    "datasetat$RC[datasetat$RC==0]<-\"NULL\";\n",
    "data1<-table(datasetat$Documento,datasetat$Vacunacion);\n",
    "data2<-table(datasetat$Documento,datasetat$SeguimientoNutricional);\n",
    "data3<-table(datasetat$Documento,datasetat$FormacionFamilias);\n",
    "data4<-table(datasetat$Documento,datasetat$AfiliacionSalud);\n",
    "data5<-table(datasetat$Documento,datasetat$CrecimientoDesarrollo);\n",
    "data6<-table(datasetat$Documento,datasetat$TH_Cualificado);\n",
    "data7<-table(datasetat$Documento,datasetat$RC);\n",
    "data8<-table(datasetat$Documento,datasetat$AccesoLibro);\n",
    "data<- rbind(data1, data2, data3,data4,data5,data6,data7,data8);\n",
    "\n",
    "\n"
   ]
  },
  {
   "cell_type": "markdown",
   "metadata": {},
   "source": [
    "### Estadística descriptiva archivo atenciones Bogotá Antioquia"
   ]
  },
  {
   "cell_type": "code",
   "execution_count": 6,
   "metadata": {},
   "outputs": [
    {
     "data": {
      "text/plain": [
       " NumeroContrato      AcnoVigencia \n",
       " Min.   :     559   Min.   :2016  \n",
       " 1st Qu.:    1088   1st Qu.:2016  \n",
       " Median :    1175   Median :2017  \n",
       " Mean   :    3786   Mean   :2017  \n",
       " 3rd Qu.:    1333   3rd Qu.:2017  \n",
       " Max.   :10882017   Max.   :2017  \n",
       "                                  \n",
       "                                     NombreEntidadContratista\n",
       " SECRETARIA DISTRITAL DE INTEGRACION SOCIAL      : 78128     \n",
       " GOBERNACION DE ANTIOQUIA                        : 56450     \n",
       " MUNICIPIO DE MEDELLIN                           : 33622     \n",
       " CAJA COLOMBIANA DE SUBSIDIO FAMILIAR COLSUBSIDIO: 19922     \n",
       " CAJA DE COMPENSACION FAMILIAR COMPENSAR         : 18370     \n",
       " CORPORACION LATINA                              :  9866     \n",
       " (Other)                                         :233013     \n",
       " IdentificacionEntidadContratista      RegionalUDS          MunicipioUDS   \n",
       " Min.   :800000427                Antioquia  :207485   Bogota D.C.:241886  \n",
       " 1st Qu.:811008215                Bogota D.C.:241886   Medellin   : 80836  \n",
       " Median :890900286                                     Bello      : 10042  \n",
       " Mean   :859557332                                     Apartado   :  5656  \n",
       " 3rd Qu.:899999061                                     Turbo      :  5546  \n",
       " Max.   :901054591                                     Chigorodo  :  4225  \n",
       "                                                       (Other)    :101180  \n",
       "                  CentroZonalUDS   CodigoUnidadServicio\n",
       " CZ CIUDAD BOLIVAR       : 35382   Min.   :5.001e+10   \n",
       " CZ KENNEDY              : 30893   1st Qu.:1.100e+11   \n",
       " CZ INTEGRAL NORORIENTAL : 29494   Median :5.001e+11   \n",
       " CZ BOSA                 : 29201   Mean   :4.317e+11   \n",
       " CZ URABA                : 27675   3rd Qu.:5.585e+11   \n",
       " CZ INTEGRAL SUR ORIENTAL: 25884   Max.   :1.100e+12   \n",
       " (Other)                 :270842                       \n",
       "           NombreUnidadServicio\n",
       " LOS PITUFOS         :  2012   \n",
       " LOS OSITOS          :  1164   \n",
       " LOS CARIÑOSITOS     :  1144   \n",
       " 121450 JINFSDISAURES:   930   \n",
       " LOS ANGELITOS       :   914   \n",
       " LOS PINGUINOS       :   885   \n",
       " (Other)             :442322   \n",
       "                                                                               Modalidad     \n",
       " HCB TRADICIONAL- COMUNITARIO (T)                                                   :109195  \n",
       " SERVICIO ESPECIAL PARA LA PRIMERA INFANCIA - INSTITUCIONAL INTEGRAL                : 84513  \n",
       " SERVICIO ESPECIAL PARA LA PRIMERA INFANCIA - FAMILIAR INTEGRAL                     : 79332  \n",
       " SERVICIO ESPECIAL PARA LA PRIMERA INFANCIA - GRADO TRANSICIÓN CON ATENCIÓN INTEGRAL: 39191  \n",
       " HOGARES INFANTILES - INSTITUCIONAL INTEGRAL                                        : 28758  \n",
       " DESARROLLO INFANTIL EN MEDIO FAMILIAR CON ARRIENDO - FAMILIAR INTEGRAL             : 27734  \n",
       " (Other)                                                                            : 80648  \n",
       "                                   NombreTipoBeneficiario IdBeneficiario    \n",
       " ESCOLAR O ADOLESCENTE                        :    68     Min.   :   10058  \n",
       " MADRE LACTANTE                               :   231     1st Qu.:10926726  \n",
       " MENOR DE SEIS MESES                          : 19540     Median :13075452  \n",
       " MUJER GESTANTE                               : 17322     Mean   :12510263  \n",
       " NIÑO O NIÑA ENTRE 6 MESES Y 5 AÑOS Y 11 MESES:412090     3rd Qu.:14721636  \n",
       " NIÑOS, NIÑAS, ADOLESCENTES O ADULTOS         :   120     Max.   :15999702  \n",
       "                                                                            \n",
       " TipoDocumento                                 Documento       PrimerNombre   \n",
       " CC: 14407     6123177032                           :     3   JUAN   : 23717  \n",
       " CE:    16     6157186274                           :     3   MARIA  : 19024  \n",
       " PA:   802     6169734642                           :     3   SAMUEL : 11003  \n",
       " RC:429928     6171577681                           :     3   SARA   : 10516  \n",
       " SD:  1119     0431648C1B6E28E30B437C7C1807878322931:     2   LUCIANA:  7166  \n",
       " TI:  3099     083298308B23288401E184433042482624645:     2   (Other):377944  \n",
       "               (Other)                              :449355   NA's   :     1  \n",
       "  SegundoNombre      PrimerApellido    SegundoApellido  \n",
       "         :154536   RODRIGUEZ:  8901   RODRIGUEZ:  8716  \n",
       " SOFIA   : 18977   GARCIA   :  6655   MARTINEZ :  6448  \n",
       " DAVID   : 15215   LOPEZ    :  6352   GARCIA   :  6299  \n",
       " ANDRES  : 11156   MARTINEZ :  6315   GOMEZ    :  6259  \n",
       " JOSE    : 10375   GOMEZ    :  6309   LOPEZ    :  6237  \n",
       " SANTIAGO: 10260   GONZALEZ :  5973   GONZALEZ :  5885  \n",
       " (Other) :228852   (Other)  :408866   (Other)  :409527  \n",
       "               FechaNacimiento   Sexo      \n",
       " 2013-06-09 00:00:00.00:   611   -:    13  \n",
       " 2013-01-20 00:00:00.00:   537   F:230243  \n",
       " 2014-01-20 00:00:00.00:   437   M:219115  \n",
       " 2015-01-01 00:00:00.00:   421             \n",
       " 2014-06-09 00:00:00.00:   361             \n",
       " 2014-05-09 00:00:00.00:   354             \n",
       " (Other)               :446650             \n",
       "                                                              GrupoEtnico    \n",
       " NO SE AUTORECONOCE EN NINGUNO DE LOS ANTERIORES                    :412895  \n",
       " NULL                                                               : 28610  \n",
       " AFROCOLOMBIANO                                                     :  4145  \n",
       " INDIGENA                                                           :  3504  \n",
       " PALENQUERO                                                         :   111  \n",
       " RAIZAL DEL ARCHIPIELAGO DE SAN ANDRES, PROVIDENCIA Y SANTA CATALINA:    66  \n",
       " (Other)                                                            :    40  \n",
       "          PaisNacimientoBeneficiario PresentaDiscapacidad\n",
       " Colombia              :446084       N   :442009         \n",
       " Venezuela             :  2787       NULL:  6055         \n",
       " Ecuador               :    61       R   :   428         \n",
       " España                :    57       S   :   316         \n",
       " Cocos (Keeling), Islas:    56       SI  :   313         \n",
       " Estados Unidos        :    46       X   :   250         \n",
       " (Other)               :   280                           \n",
       "                FechaAtencion               FechaDesvinculacionUDS\n",
       " 2017-03-17 00:00:00.00: 87837   NULL                  :449274    \n",
       " 2017-02-01 00:00:00.00: 85456   2017-10-31 00:00:00.00:    54    \n",
       " 2017-11-01 00:00:00.00: 36521   2017-05-27 00:00:00.00:     6    \n",
       " 2017-04-04 00:00:00.00: 24224   2017-08-22 00:00:00.00:     3    \n",
       " 2017-03-20 00:00:00.00: 16460   2017-09-01 00:00:00.00:     3    \n",
       " 2017-01-18 00:00:00.00: 11718   2017-09-26 00:00:00.00:     3    \n",
       " (Other)               :187155   (Other)               :    28    \n",
       " EstadoAtencionBeneficiario       RC         SeguimientoNutricional\n",
       " Activo:449371              Min.   :0.0000   Min.   :0.0000        \n",
       "                            1st Qu.:1.0000   1st Qu.:1.0000        \n",
       "                            Median :1.0000   Median :1.0000        \n",
       "                            Mean   :0.9995   Mean   :0.8828        \n",
       "                            3rd Qu.:1.0000   3rd Qu.:1.0000        \n",
       "                            Max.   :1.0000   Max.   :1.0000        \n",
       "                                                                   \n",
       "   Vacunacion     FormacionFamilias AfiliacionSalud   AccesoLibros   \n",
       " Min.   :0.0000   Min.   :0.0000    Min.   :0.0000   Min.   :0.0000  \n",
       " 1st Qu.:1.0000   1st Qu.:0.0000    1st Qu.:0.0000   1st Qu.:0.0000  \n",
       " Median :1.0000   Median :0.0000    Median :1.0000   Median :0.0000  \n",
       " Mean   :0.7557   Mean   :0.4807    Mean   :0.5432   Mean   :0.2485  \n",
       " 3rd Qu.:1.0000   3rd Qu.:1.0000    3rd Qu.:1.0000   3rd Qu.:0.0000  \n",
       " Max.   :1.0000   Max.   :1.0000    Max.   :1.0000   Max.   :1.0000  \n",
       "                                                                     \n",
       " CrecimientoDesarrollo TH_Cualificado        TipoAtencion   \n",
       " Min.   :0.000         Min.   :0.0000   INTEGRAL   :319167  \n",
       " 1st Qu.:0.000         1st Qu.:0.0000   TRADICIONAL:130204  \n",
       " Median :1.000         Median :1.0000                       \n",
       " Mean   :0.675         Mean   :0.6767                       \n",
       " 3rd Qu.:1.000         3rd Qu.:1.0000                       \n",
       " Max.   :1.000         Max.   :1.0000                       \n",
       "                                                            "
      ]
     },
     "metadata": {},
     "output_type": "display_data"
    }
   ],
   "source": [
    "summary(datasetat)"
   ]
  },
  {
   "cell_type": "code",
   "execution_count": 8,
   "metadata": {},
   "outputs": [
    {
     "data": {
      "image/png": "[encoded data removed]",
      "text/plain": [
       "Plot with title \"8 Atenciones\""
      ]
     },
     "metadata": {},
     "output_type": "display_data"
    }
   ],
   "source": [
    "data<-c(sum(datasetat$Vacunacion),sum(datasetat$SeguimientoNutricional),sum(datasetat$FormacionFamilias),sum(datasetat$AfiliacionSalud),sum(datasetat$AccesoLibros),sum(datasetat$CrecimientoDesarrollo),sum(datasetat$TH_Cualificado),sum(datasetat$RC))\n",
    " xCoords=barplot(data,legend.text=c(\"Vacunacion\",\"Nutricion\",\"Formación\",\"Salud\",\"Libros\",\"Crecimiento\",\"TH_Calificado\",\"RC\"),col=c(\"orange\",\"blue\",\"green\",\"violet\",\"red\",\"white\",\"brown\",\"yellow\"),plot=FALSE)\n",
    "xCoords=barplot(data,legend.text=c(\"Vacunacion\",\"Nutricion\",\"Formación\",\"Salud\",\"Libros\",\"Crecimiento\",\"TH_Calificado\",\"RC\"),col=c(\"orange\",\"blue\",\"green\",\"violet\",\"red\",\"white\",\"brown\",\"yellow\"),xlim=c(0,15),main=\"8 Atenciones\",ylab=\"Numero de beneficiarios\",xlab=\"Tipo de atención\")"
   ]
  },
  {
   "cell_type": "code",
   "execution_count": 9,
   "metadata": {},
   "outputs": [
    {
     "data": {
      "image/png": "[encoded data removed]",
      "text/plain": [
       "Plot with title \"Tipo de Atención\""
      ]
     },
     "metadata": {},
     "output_type": "display_data"
    }
   ],
   "source": [
    "data<-table(datasetat$TipoAtencion)\n",
    "barplot(data,col=c(\"orange\",\"blue\"),main=\"Tipo de Atención\",ylab=\"Frecuencia\",xlab=\"Tipo\")"
   ]
  },
  {
   "cell_type": "markdown",
   "metadata": {},
   "source": [
    "#### Paises de Nacimiento"
   ]
  },
  {
   "cell_type": "code",
   "execution_count": 16,
   "metadata": {},
   "outputs": [
    {
     "data": {
      "text/plain": [
       "\n",
       "                            Afganistan                               Alemania \n",
       "                                     1                                      1 \n",
       "                               Belgica                                   Chad \n",
       "                                     1                                      1 \n",
       "             Corea (Sur), Republica De                               Dominica \n",
       "                                     1                                      1 \n",
       "                                  Irak Laos, Republica Popular Democratica De \n",
       "                                     1                                      1 \n",
       "                            Luxemburgo                                Nigeria \n",
       "                                     1                                      1 \n",
       "                                  Oman                 Paises Bajos (Holanda) \n",
       "                                     1                                      1 \n",
       "                              Paraguay                        Republica Checa \n",
       "                                     1                                      1 \n",
       "                                 Rusia                            Tadjikistan \n",
       "                                     1                                      1 \n",
       "                               Vanuatu      Virgenes, Islas (Norteamericanas) \n",
       "                                     1                                      1 \n",
       "                            Azerbaijan                                Francia \n",
       "                                     2                                      2 \n",
       "                               Namibia                               Viet Nam \n",
       "                                     2                                      2 \n",
       "                             Australia                          Cook, Islas,1 \n",
       "                                     3                                      3 \n",
       "                             Guatemala                                 Italia \n",
       "                                     3                                      3 \n",
       "                                  Cuba                             Costa Rica \n",
       "                                     5                                      6 \n",
       "                               Bolivia                                  China \n",
       "                                     7                                      7 \n",
       "                           Reino Unido                                 Canada \n",
       "                                     7                                      8 \n",
       "                  Republica Dominicana                                 Brasil \n",
       "                                     9                                     10 \n",
       "                                  Peru                                   NULL \n",
       "                                    11                                     14 \n",
       "                               Comoras                                 Chipre \n",
       "                                    15                                     16 \n",
       "                                Mexico                                  Chile \n",
       "                                    18                                     28 \n",
       "                             Argentina                                 Panama \n",
       "                                    40                                     41 \n",
       "                        Estados Unidos                 Cocos (Keeling), Islas \n",
       "                                    46                                     56 \n",
       "                                España                                Ecuador \n",
       "                                    57                                     61 \n",
       "                             Venezuela                               Colombia \n",
       "                                  2787                                 446084 "
      ]
     },
     "metadata": {},
     "output_type": "display_data"
    }
   ],
   "source": [
    "data<-table(datasetat$PaisNacimientoBeneficiario)\n",
    "sort(data)"
   ]
  },
  {
   "cell_type": "code",
   "execution_count": 18,
   "metadata": {},
   "outputs": [],
   "source": [
    "datasetco <- read.csv(\"C:\\\\Users\\\\USER\\\\Documents\\\\Maestria Juank\\\\Big Data\\\\Contratistas.csv\", header=TRUE, sep=\";\")"
   ]
  },
  {
   "cell_type": "code",
   "execution_count": 22,
   "metadata": {},
   "outputs": [
    {
     "data": {
      "image/png": "[encoded data removed]",
      "text/plain": [
       "plot without title"
      ]
     },
     "metadata": {},
     "output_type": "display_data"
    }
   ],
   "source": [
    "data2<-table(datasetco$IdentificacionEntidadContratista,datasetco$NumeroCupos)\n",
    "plot(table)"
   ]
  },
  {
   "cell_type": "code",
   "execution_count": null,
   "metadata": {},
   "outputs": [],
   "source": []
  }
 ],
 "metadata": {
  "kernelspec": {
   "display_name": "Python 3",
   "language": "python",
   "name": "python3"
  },
  "language_info": {
   "codemirror_mode": {
    "name": "ipython",
    "version": 3
   },
   "file_extension": ".py",
   "mimetype": "text/x-python",
   "name": "python",
   "nbconvert_exporter": "python",
   "pygments_lexer": "ipython3",
   "version": "3.7.1"
  }
 },
 "nbformat": 4,
 "nbformat_minor": 2
}
